{
  "nbformat": 4,
  "nbformat_minor": 0,
  "metadata": {
    "colab": {
      "provenance": [],
      "authorship_tag": "ABX9TyPy1/ZycuFZ5CK75k3ymyLh",
      "include_colab_link": true
    },
    "kernelspec": {
      "name": "python3",
      "display_name": "Python 3"
    },
    "language_info": {
      "name": "python"
    }
  },
  "cells": [
    {
      "cell_type": "markdown",
      "metadata": {
        "id": "view-in-github",
        "colab_type": "text"
      },
      "source": [
        "<a href=\"https://colab.research.google.com/github/Krishna18-Kunal/Unsloth.AI-clone/blob/main/Class_work_.ipynb\" target=\"_parent\"><img src=\"https://colab.research.google.com/assets/colab-badge.svg\" alt=\"Open In Colab\"/></a>"
      ]
    },
    {
      "cell_type": "code",
      "execution_count": null,
      "metadata": {
        "colab": {
          "base_uri": "https://localhost:8080/"
        },
        "id": "qHbh4T1Bdn5s",
        "outputId": "35fb275d-81b3-4701-8a30-3bc640c301b9"
      },
      "outputs": [
        {
          "output_type": "execute_result",
          "data": {
            "text/plain": [
              "[[1, 22, 2], [2, 3, 4], [4, 5, 6]]"
            ]
          },
          "metadata": {},
          "execution_count": 1
        }
      ],
      "source": [
        "M=[[1,22,2],[2,3,4],[4,5,6]]\n",
        "M"
      ]
    },
    {
      "cell_type": "code",
      "source": [
        "M[1][1]"
      ],
      "metadata": {
        "colab": {
          "base_uri": "https://localhost:8080/"
        },
        "id": "LV40gPk2jH9Z",
        "outputId": "9e3dcb42-9a81-4354-d0e0-6328da303394"
      },
      "execution_count": null,
      "outputs": [
        {
          "output_type": "execute_result",
          "data": {
            "text/plain": [
              "3"
            ]
          },
          "metadata": {},
          "execution_count": 17
        }
      ]
    },
    {
      "cell_type": "code",
      "source": [
        "#learning python by Mark Lutz 5th Edition"
      ],
      "metadata": {
        "id": "nnxRxKVwfNP7"
      },
      "execution_count": null,
      "outputs": []
    },
    {
      "cell_type": "code",
      "source": [
        "S='krishna kunal'\n",
        "T=' IITP'\n",
        "SS=S+T\n",
        "SSS='r'+SS[1:]\n",
        "print(SSS)"
      ],
      "metadata": {
        "colab": {
          "base_uri": "https://localhost:8080/"
        },
        "id": "Vy7PKgFDgWD7",
        "outputId": "10a9afd5-a1b9-4f6c-a5d7-cdf85626887a"
      },
      "execution_count": null,
      "outputs": [
        {
          "output_type": "stream",
          "name": "stdout",
          "text": [
            "rrishna kunal IITP\n"
          ]
        }
      ]
    },
    {
      "cell_type": "code",
      "source": [
        "dir(S)"
      ],
      "metadata": {
        "id": "-xbCPbZHg9Cy"
      },
      "execution_count": null,
      "outputs": []
    },
    {
      "cell_type": "code",
      "source": [
        "L=[22,'krishna kuanl',22.22,'Ankush']\n",
        "#len(L)\n",
        "L.append('Shyam')\n",
        "L.pop(2)\n",
        "len(L)\n",
        "L"
      ],
      "metadata": {
        "colab": {
          "base_uri": "https://localhost:8080/"
        },
        "id": "4LfcrDnYh491",
        "outputId": "5e969c09-1812-4121-cd0b-a4909c625b65"
      },
      "execution_count": null,
      "outputs": [
        {
          "output_type": "execute_result",
          "data": {
            "text/plain": [
              "[22, 'krishna kuanl', 'Ankush', 'Shyam']"
            ]
          },
          "metadata": {},
          "execution_count": 16
        }
      ]
    },
    {
      "cell_type": "code",
      "source": [
        "#Dictionaries\n",
        "D={'A':'Abhi','2':'santosh','C':400}\n",
        "D['A']+\"shek\"\n",
        "D"
      ],
      "metadata": {
        "colab": {
          "base_uri": "https://localhost:8080/"
        },
        "id": "O4oC0YYjiXUM",
        "outputId": "89f59e04-7d77-4737-97a2-099368e52894"
      },
      "execution_count": null,
      "outputs": [
        {
          "output_type": "execute_result",
          "data": {
            "text/plain": [
              "{'A': 'Abhi', '2': 'santosh', 'C': 400}"
            ]
          },
          "metadata": {},
          "execution_count": 19
        }
      ]
    },
    {
      "cell_type": "code",
      "source": [
        "D={}\n",
        "D['Name']='Abhi'\n",
        "D['job']='CE'\n",
        "D['age']='22'\n",
        "D"
      ],
      "metadata": {
        "colab": {
          "base_uri": "https://localhost:8080/"
        },
        "id": "h1Pl6Dz2kFrF",
        "outputId": "c298d17b-de6a-47aa-c9bc-1248b26c5b87"
      },
      "execution_count": null,
      "outputs": [
        {
          "output_type": "execute_result",
          "data": {
            "text/plain": [
              "{'Name': 'Abhi', 'job': 'CE', 'age': '22'}"
            ]
          },
          "metadata": {},
          "execution_count": 26
        }
      ]
    },
    {
      "cell_type": "code",
      "source": [
        "s=\"34\"\n",
        "i=1\n",
        "int(s)+i"
      ],
      "metadata": {
        "id": "G_JNmNQSmo23",
        "colab": {
          "base_uri": "https://localhost:8080/"
        },
        "outputId": "ac25234b-201b-4727-cefa-e7e4b5b35689"
      },
      "execution_count": null,
      "outputs": [
        {
          "output_type": "execute_result",
          "data": {
            "text/plain": [
              "35"
            ]
          },
          "metadata": {},
          "execution_count": 2
        }
      ]
    },
    {
      "cell_type": "code",
      "source": [
        "B = '1101' # Convert binary digits to integer with ord\n",
        "I = 0\n",
        "while B != '':\n",
        "   I = I * 2 + (ord(B[0]) - ord('0'))\n",
        "   B = B[1:]\n",
        "I"
      ],
      "metadata": {
        "colab": {
          "base_uri": "https://localhost:8080/"
        },
        "id": "NDeIZTNK577j",
        "outputId": "18d3f49e-683d-48b6-e92a-ae7cee26d70c"
      },
      "execution_count": null,
      "outputs": [
        {
          "output_type": "execute_result",
          "data": {
            "text/plain": [
              "13"
            ]
          },
          "metadata": {},
          "execution_count": 4
        }
      ]
    },
    {
      "cell_type": "code",
      "source": [
        "f=open('data_k.txt','w')\n",
        "f.write(\"krishna kunal\\n\")\n",
        "f.write('1,2,3,4,5')\n",
        "f.close()"
      ],
      "metadata": {
        "id": "BYJngw92kyLP"
      },
      "execution_count": null,
      "outputs": []
    },
    {
      "cell_type": "code",
      "source": [
        "x='kk'\n",
        "x=31.1\n",
        "print(x)\n",
        "a=1;b=2;print(a+b)"
      ],
      "metadata": {
        "colab": {
          "base_uri": "https://localhost:8080/"
        },
        "id": "D4Q2m7YJTOsZ",
        "outputId": "27363207-d61a-4750-cc48-79d8463e03bf"
      },
      "execution_count": null,
      "outputs": [
        {
          "output_type": "stream",
          "name": "stdout",
          "text": [
            "31.1\n",
            "3\n"
          ]
        }
      ]
    },
    {
      "cell_type": "code",
      "source": [
        "f=open('data_k.txt')\n",
        "text=f.read()\n",
        "print(text)"
      ],
      "metadata": {
        "colab": {
          "base_uri": "https://localhost:8080/"
        },
        "id": "DA5mQNfNTwtI",
        "outputId": "482b09ae-c282-4daa-fdf8-a4d7fddf29c9"
      },
      "execution_count": null,
      "outputs": [
        {
          "output_type": "stream",
          "name": "stdout",
          "text": [
            "krishna kunal\n",
            "1,2,3,4,5\n"
          ]
        }
      ]
    },
    {
      "cell_type": "code",
      "source": [
        "if not 1:\n",
        "  print('true')\n",
        "else:\n",
        "  print('false')"
      ],
      "metadata": {
        "colab": {
          "base_uri": "https://localhost:8080/"
        },
        "id": "LR5NSSxmUjG0",
        "outputId": "c385ea79-5a99-47e0-dab8-f4838b3b87b5"
      },
      "execution_count": null,
      "outputs": [
        {
          "output_type": "stream",
          "name": "stdout",
          "text": [
            "false\n"
          ]
        }
      ]
    },
    {
      "cell_type": "code",
      "source": [
        "x='bags'\n",
        "if x=='chain':\n",
        "  print(\"bags in the chain\")\n",
        "elif x=='bags':\n",
        "  print('what')\n",
        "else:\n",
        "  print(\"go to school!\")"
      ],
      "metadata": {
        "colab": {
          "base_uri": "https://localhost:8080/"
        },
        "id": "92I-PBk2VAxO",
        "outputId": "4499c5b2-ac3a-4bac-da53-b71b20c66109"
      },
      "execution_count": null,
      "outputs": [
        {
          "output_type": "stream",
          "name": "stdout",
          "text": [
            "what\n"
          ]
        }
      ]
    },
    {
      "cell_type": "code",
      "source": [
        "x='krishna'\n",
        "while x:\n",
        "  print(x)\n",
        "  x=x[1:]"
      ],
      "metadata": {
        "colab": {
          "base_uri": "https://localhost:8080/"
        },
        "id": "rGpf76g3WIEo",
        "outputId": "94946424-fbec-464e-ca90-0288a13625b2"
      },
      "execution_count": null,
      "outputs": [
        {
          "output_type": "stream",
          "name": "stdout",
          "text": [
            "krishna\n",
            "rishna\n",
            "ishna\n",
            "shna\n",
            "hna\n",
            "na\n",
            "a\n"
          ]
        }
      ]
    },
    {
      "cell_type": "code",
      "source": [
        "a=0\n",
        "b=10\n",
        "while a<b:\n",
        "  print(a)\n",
        "  a=a+1"
      ],
      "metadata": {
        "id": "4w1awsgwWhuN"
      },
      "execution_count": null,
      "outputs": []
    },
    {
      "cell_type": "code",
      "source": [
        "\n",
        "x=10\n",
        "while x:\n",
        "  x=x-1\n",
        "  if x%2!=0: continue\n",
        "  print(x)\n"
      ],
      "metadata": {
        "colab": {
          "base_uri": "https://localhost:8080/"
        },
        "id": "0w5LigyaXmoD",
        "outputId": "754bd20d-7bf0-4bfc-d26e-e8c43d3f8d21"
      },
      "execution_count": null,
      "outputs": [
        {
          "output_type": "stream",
          "name": "stdout",
          "text": [
            "8\n",
            "6\n",
            "4\n",
            "2\n",
            "0\n"
          ]
        }
      ]
    },
    {
      "cell_type": "code",
      "source": [
        "sum=0\n",
        "pro=1\n",
        "for i in [1,2,3,4,5,6]:\n",
        "  sum=sum+1\n",
        "  pro=pro*1\n",
        "print(sum)\n",
        "print(pro)"
      ],
      "metadata": {
        "colab": {
          "base_uri": "https://localhost:8080/"
        },
        "id": "PLyt6_JWYWI6",
        "outputId": "9d247616-8a85-496e-837b-0286992d755f"
      },
      "execution_count": null,
      "outputs": [
        {
          "output_type": "stream",
          "name": "stdout",
          "text": [
            "6\n",
            "1\n"
          ]
        }
      ]
    },
    {
      "cell_type": "code",
      "source": [
        "s='krishan kunal'\n",
        "for i in s:\n",
        "  print(i,end='')"
      ],
      "metadata": {
        "colab": {
          "base_uri": "https://localhost:8080/"
        },
        "id": "bZFmDaoLZXDc",
        "outputId": "cd16a835-42af-4c43-ceb4-c7713686a342"
      },
      "execution_count": null,
      "outputs": [
        {
          "output_type": "stream",
          "name": "stdout",
          "text": [
            "krishan kunal"
          ]
        }
      ]
    },
    {
      "cell_type": "code",
      "source": [
        "T=('and',2,'k')\n",
        "for j in T:\n",
        "  print(j)"
      ],
      "metadata": {
        "colab": {
          "base_uri": "https://localhost:8080/"
        },
        "id": "Dis9gYtJcfTy",
        "outputId": "7b0e1d0f-a8a2-46b1-ccde-deb716877173"
      },
      "execution_count": null,
      "outputs": [
        {
          "output_type": "stream",
          "name": "stdout",
          "text": [
            "and\n",
            "2\n",
            "k\n"
          ]
        }
      ]
    },
    {
      "cell_type": "code",
      "source": [
        "def my_func(fname,lname):\n",
        "  print(fname +\" \"+ lname)\n",
        "my_func('krishan','kunal')"
      ],
      "metadata": {
        "colab": {
          "base_uri": "https://localhost:8080/"
        },
        "id": "pqGBfufbd0Rn",
        "outputId": "80078548-7555-465d-88a7-7e4ad042699d"
      },
      "execution_count": null,
      "outputs": [
        {
          "output_type": "stream",
          "name": "stdout",
          "text": [
            "krishan kunal\n"
          ]
        }
      ]
    },
    {
      "cell_type": "code",
      "source": [
        "def my_func(a,b):\n",
        "  sum=a+b\n",
        "  print(sum)\n",
        "my_func(2400.325,5234.36)"
      ],
      "metadata": {
        "colab": {
          "base_uri": "https://localhost:8080/"
        },
        "id": "uv8td8-xeRvV",
        "outputId": "df8ebc42-70c1-4b92-963c-3c5e790a462d"
      },
      "execution_count": null,
      "outputs": [
        {
          "output_type": "stream",
          "name": "stdout",
          "text": [
            "7634.6849999999995\n"
          ]
        }
      ]
    },
    {
      "cell_type": "code",
      "source": [
        "my_func(2131244,566778)"
      ],
      "metadata": {
        "colab": {
          "base_uri": "https://localhost:8080/"
        },
        "id": "s3g_PiTIeqpj",
        "outputId": "5755107a-21c6-4e60-eb8a-679efc717030"
      },
      "execution_count": null,
      "outputs": [
        {
          "output_type": "stream",
          "name": "stdout",
          "text": [
            "2698022\n"
          ]
        }
      ]
    },
    {
      "cell_type": "code",
      "source": [
        "def my_sum(*a):\n",
        "  sum=0\n",
        "  for i in a:\n",
        "    sum=sum+i\n",
        "  print(sum)\n",
        "my_sum(120,356,2325,368694)"
      ],
      "metadata": {
        "colab": {
          "base_uri": "https://localhost:8080/"
        },
        "id": "EYGez7Adft79",
        "outputId": "b7199340-c616-4129-dd1a-b73994df167f"
      },
      "execution_count": null,
      "outputs": [
        {
          "output_type": "stream",
          "name": "stdout",
          "text": [
            "371495\n"
          ]
        }
      ]
    },
    {
      "cell_type": "code",
      "source": [
        "my_sum(2,5,5)"
      ],
      "metadata": {
        "colab": {
          "base_uri": "https://localhost:8080/"
        },
        "id": "6Yns4u1Jga6S",
        "outputId": "14c748b2-8ecb-419f-9878-4a5a4763526d"
      },
      "execution_count": null,
      "outputs": [
        {
          "output_type": "stream",
          "name": "stdout",
          "text": [
            "12\n"
          ]
        }
      ]
    },
    {
      "cell_type": "code",
      "source": [
        "def name_age(name,age):\n",
        "  print('Hi,I am',name)\n",
        "  print('My age is',age)\n",
        "name_age(name=\"krishna\",age=18)"
      ],
      "metadata": {
        "colab": {
          "base_uri": "https://localhost:8080/"
        },
        "id": "rCIq-EgOhl9z",
        "outputId": "d3a4853f-51e5-48b7-c675-1e4567412918"
      },
      "execution_count": null,
      "outputs": [
        {
          "output_type": "stream",
          "name": "stdout",
          "text": [
            "Hi,I am krishna\n",
            "My age is 18\n"
          ]
        }
      ]
    },
    {
      "cell_type": "code",
      "source": [
        "def div_(*,a,b):\n",
        "  value=a/b\n",
        "  print(value)\n",
        "div_(b=5,a=10)"
      ],
      "metadata": {
        "colab": {
          "base_uri": "https://localhost:8080/"
        },
        "id": "ZdQb1gk8ixRn",
        "outputId": "7756974b-ab53-4b13-cde1-af2113ea77d1"
      },
      "execution_count": null,
      "outputs": [
        {
          "output_type": "stream",
          "name": "stdout",
          "text": [
            "2.0\n"
          ]
        }
      ]
    },
    {
      "cell_type": "code",
      "source": [
        "def div_(a,b,/):\n",
        "  value=a/b\n",
        "  print(value)\n",
        "div_(4,6)"
      ],
      "metadata": {
        "colab": {
          "base_uri": "https://localhost:8080/"
        },
        "id": "_Tq_yhL1kFAT",
        "outputId": "88e1a26b-4e9c-4f57-a88a-b2475486c494"
      },
      "execution_count": null,
      "outputs": [
        {
          "output_type": "stream",
          "name": "stdout",
          "text": [
            "0.6666666666666666\n"
          ]
        }
      ]
    },
    {
      "cell_type": "code",
      "source": [
        "def fun_sum(n):\n",
        "  value=1\n",
        "  while n>0:\n",
        "   value=value*n\n",
        "   n=n-1\n",
        "  return(value)\n",
        "fun_sum(3)"
      ],
      "metadata": {
        "colab": {
          "base_uri": "https://localhost:8080/"
        },
        "id": "5v8UwJsFrw4w",
        "outputId": "6e03631e-dc97-4c3e-b9c0-fb70f1e32a67"
      },
      "execution_count": null,
      "outputs": [
        {
          "output_type": "execute_result",
          "data": {
            "text/plain": [
              "6"
            ]
          },
          "metadata": {},
          "execution_count": 36
        }
      ]
    },
    {
      "cell_type": "code",
      "source": [
        "def fac_t(n):\n",
        "  if n==0:\n",
        "   return (1)\n",
        "  else:\n",
        "    n=n*fac_t(n-1)\n",
        "    return(n)\n",
        "fac_t(5)"
      ],
      "metadata": {
        "colab": {
          "base_uri": "https://localhost:8080/"
        },
        "id": "WLggi6DYooHp",
        "outputId": "dd1b360a-c9cf-4f43-97a2-64b52f4590ae"
      },
      "execution_count": null,
      "outputs": [
        {
          "output_type": "execute_result",
          "data": {
            "text/plain": [
              "120"
            ]
          },
          "metadata": {},
          "execution_count": 34
        }
      ]
    },
    {
      "cell_type": "code",
      "source": [
        "def fun_sum(n):\n",
        "  value=0\n",
        "  while n>0:\n",
        "   value=value+n\n",
        "   n=n-1\n",
        "  return(value)\n",
        "fun_sum(100)"
      ],
      "metadata": {
        "colab": {
          "base_uri": "https://localhost:8080/"
        },
        "id": "N_yjRZNxrI2i",
        "outputId": "c9ac25fa-c40a-4380-c774-335328fcfffd"
      },
      "execution_count": null,
      "outputs": [
        {
          "output_type": "execute_result",
          "data": {
            "text/plain": [
              "5050"
            ]
          },
          "metadata": {},
          "execution_count": 35
        }
      ]
    },
    {
      "cell_type": "code",
      "source": [
        "def poly(n):\n",
        "  value=2*n*n*n+5*n*n-10\n",
        "  return(value)\n",
        "poly(5)"
      ],
      "metadata": {
        "colab": {
          "base_uri": "https://localhost:8080/"
        },
        "id": "RFvXM-aKkWO6",
        "outputId": "bff6b629-1d95-4cdd-af51-71c6ee46708e"
      },
      "execution_count": null,
      "outputs": [
        {
          "output_type": "execute_result",
          "data": {
            "text/plain": [
              "365"
            ]
          },
          "metadata": {},
          "execution_count": 30
        }
      ]
    },
    {
      "cell_type": "code",
      "source": [
        "class Student:\n",
        "  def __init__(self,name,age):\n",
        "    self.name=name\n",
        "    self.age=age\n",
        "s1 =Student('Ankush',22)\n",
        "print(s1.name)\n",
        "print(s1.age)\n"
      ],
      "metadata": {
        "colab": {
          "base_uri": "https://localhost:8080/"
        },
        "id": "SHOOySl5mMIU",
        "outputId": "832c5974-5bfb-4bb7-d545-fc21f062f4af"
      },
      "execution_count": null,
      "outputs": [
        {
          "output_type": "stream",
          "name": "stdout",
          "text": [
            "Ankush\n",
            "22\n"
          ]
        }
      ]
    },
    {
      "cell_type": "code",
      "source": [
        "class Student:\n",
        " def __init__(self, name, age, idnumber):\n",
        "   self.name= name\n",
        "   self.age= age\n",
        "   self.idnumber=idnumber\n",
        " def display (self):\n",
        "    print(self.name)\n",
        "    print(self.idnumber)\n",
        "    print(self.age)\n",
        " def details (self):\n",
        "   print(\"My name is {}\".format(self.name))\n",
        "   print(\"IdNumber: {}\".format(self.idnumber))\n",
        "s1 = Student('Ankush', 22, 2024001)\n",
        "s2=Student('Manish', 23, 2024002)\n",
        "s1.details()\n",
        "s2.details ()"
      ],
      "metadata": {
        "colab": {
          "base_uri": "https://localhost:8080/"
        },
        "id": "HMF30ZoLnGyi",
        "outputId": "08ab4222-efd1-41ca-c726-7d58eb1df3e0"
      },
      "execution_count": null,
      "outputs": [
        {
          "output_type": "stream",
          "name": "stdout",
          "text": [
            "My name is Ankush\n",
            "IdNumber: 2024001\n",
            "My name is Manish\n",
            "IdNumber: 2024002\n"
          ]
        }
      ]
    }
  ]
}